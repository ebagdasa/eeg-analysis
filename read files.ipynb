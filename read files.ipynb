{
 "cells": [
  {
   "cell_type": "code",
   "execution_count": null,
   "metadata": {},
   "outputs": [],
   "source": [
    "%%bash\n",
    "pip install matplotlib"
   ]
  },
  {
   "cell_type": "code",
   "execution_count": 41,
   "metadata": {},
   "outputs": [],
   "source": [
    "import pyedflib\n",
    "import numpy as np"
   ]
  },
  {
   "cell_type": "markdown",
   "metadata": {},
   "source": [
    "## Read data"
   ]
  },
  {
   "cell_type": "code",
   "execution_count": 63,
   "metadata": {},
   "outputs": [],
   "source": [
    "f = pyedflib.EdfReader(\"data/00000068_s01_a00.edf\")"
   ]
  },
  {
   "cell_type": "code",
   "execution_count": 43,
   "metadata": {},
   "outputs": [],
   "source": [
    "n = f.signals_in_file"
   ]
  },
  {
   "cell_type": "code",
   "execution_count": 44,
   "metadata": {},
   "outputs": [
    {
     "data": {
      "text/plain": [
       "30"
      ]
     },
     "execution_count": 44,
     "metadata": {},
     "output_type": "execute_result"
    }
   ],
   "source": [
    "n"
   ]
  },
  {
   "cell_type": "code",
   "execution_count": 66,
   "metadata": {},
   "outputs": [
    {
     "data": {
      "text/plain": [
       "array([315500, 315500, 315500, 315500, 315500, 315500, 315500, 315500,\n",
       "       315500, 315500, 315500, 315500, 315500, 315500, 315500, 315500,\n",
       "       315500, 315500, 315500, 315500, 315500, 315500, 315500, 315500,\n",
       "       315500, 315500, 315500,   1262,   1262,   1262])"
      ]
     },
     "execution_count": 66,
     "metadata": {},
     "output_type": "execute_result"
    }
   ],
   "source": [
    "signal_labels = f.getSignalLabels()\n",
    "\n",
    "f.getNSamples()"
   ]
  },
  {
   "cell_type": "markdown",
   "metadata": {},
   "source": [
    "выкинем последние три лебла так как они другой длины"
   ]
  },
  {
   "cell_type": "code",
   "execution_count": 67,
   "metadata": {},
   "outputs": [],
   "source": [
    "n=n-3\n",
    "sigbufs = np.zeros((n, f.getNSamples()[0]))\n",
    "for i in np.arange(n):\n",
    "    sigbufs[i, :] = f.readSignal(i)"
   ]
  },
  {
   "cell_type": "markdown",
   "metadata": {},
   "source": [
    "Сохраним для чтения TICC"
   ]
  },
  {
   "cell_type": "code",
   "execution_count": 57,
   "metadata": {},
   "outputs": [],
   "source": [
    "with open('test.txt', 'wb') as f:\n",
    "    np.savetxt(f, np.transpose(sigbufs[:,100:2100]),delimiter=',')"
   ]
  },
  {
   "cell_type": "markdown",
   "metadata": {},
   "source": [
    "## TICC Part"
   ]
  },
  {
   "cell_type": "code",
   "execution_count": 59,
   "metadata": {},
   "outputs": [],
   "source": [
    "import TICC.TICC_solver as TICC"
   ]
  },
  {
   "cell_type": "code",
   "execution_count": 60,
   "metadata": {},
   "outputs": [],
   "source": [
    "fname = 'test.txt'\n"
   ]
  },
  {
   "cell_type": "code",
   "execution_count": 61,
   "metadata": {
    "scrolled": true
   },
   "outputs": [
    {
     "name": "stdout",
     "output_type": "stream",
     "text": [
      "lam_sparse 0.11\n",
      "switch_penalty 600\n",
      "num_cluster 5\n",
      "num stacked 1\n",
      "completed getting the data\n",
      "(2000, (2000, 27))\n",
      "[3 3 3 ..., 0 0 0]\n",
      "\n",
      "\n",
      "\n",
      "ITERATION ### 0\n",
      "{0: 567, 1: 180, 2: 291, 3: 512, 4: 450}\n",
      "OPTIMIZATION for Cluster # 0 DONE!!!\n",
      "OPTIMIZATION for Cluster # 1 DONE!!!\n",
      "OPTIMIZATION for Cluster # 2 DONE!!!\n",
      "OPTIMIZATION for Cluster # 3 DONE!!!\n",
      "OPTIMIZATION for Cluster # 4 DONE!!!\n",
      "length of the cluster  0 ------> 567\n",
      "length of the cluster  1 ------> 180\n",
      "length of the cluster  2 ------> 291\n",
      "length of the cluster  3 ------> 512\n",
      "length of the cluster  4 ------> 450\n",
      "UPDATED THE OLD COVARIANCE\n",
      "beginning the smoothening ALGORITHM\n",
      "length of cluster # 0 --------> 578\n",
      "length of cluster # 1 --------> 190\n",
      "length of cluster # 2 --------> 326\n",
      "length of cluster # 3 --------> 490\n",
      "length of cluster # 4 --------> 416\n",
      "Done writing the figure\n",
      "\n",
      "\n",
      "\n",
      "\n",
      "\n",
      "\n",
      "\n",
      "ITERATION ### 1\n",
      "{0: 578, 1: 190, 2: 326, 3: 490, 4: 416}\n",
      "OPTIMIZATION for Cluster # 0 DONE!!!\n",
      "OPTIMIZATION for Cluster # 1 DONE!!!\n",
      "OPTIMIZATION for Cluster # 2 DONE!!!\n",
      "OPTIMIZATION for Cluster # 3 DONE!!!\n",
      "OPTIMIZATION for Cluster # 4 DONE!!!\n",
      "length of the cluster  0 ------> 578\n",
      "length of the cluster  1 ------> 190\n",
      "length of the cluster  2 ------> 326\n",
      "length of the cluster  3 ------> 490\n",
      "length of the cluster  4 ------> 416\n",
      "UPDATED THE OLD COVARIANCE\n",
      "beginning the smoothening ALGORITHM\n",
      "length of cluster # 0 --------> 578\n",
      "length of cluster # 1 --------> 191\n",
      "length of cluster # 2 --------> 326\n",
      "length of cluster # 3 --------> 490\n",
      "length of cluster # 4 --------> 415\n",
      "Done writing the figure\n",
      "\n",
      "\n",
      "\n",
      "\n",
      "\n",
      "\n",
      "\n",
      "ITERATION ### 2\n",
      "{0: 578, 1: 191, 2: 326, 3: 490, 4: 415}\n",
      "OPTIMIZATION for Cluster # 0 DONE!!!\n",
      "OPTIMIZATION for Cluster # 1 DONE!!!\n",
      "OPTIMIZATION for Cluster # 2 DONE!!!\n",
      "OPTIMIZATION for Cluster # 3 DONE!!!\n",
      "OPTIMIZATION for Cluster # 4 DONE!!!\n",
      "length of the cluster  0 ------> 578\n",
      "length of the cluster  1 ------> 191\n",
      "length of the cluster  2 ------> 326\n",
      "length of the cluster  3 ------> 490\n",
      "length of the cluster  4 ------> 415\n",
      "UPDATED THE OLD COVARIANCE\n",
      "beginning the smoothening ALGORITHM\n",
      "length of cluster # 0 --------> 578\n",
      "length of cluster # 1 --------> 193\n",
      "length of cluster # 2 --------> 326\n",
      "length of cluster # 3 --------> 488\n",
      "length of cluster # 4 --------> 415\n",
      "Done writing the figure\n",
      "\n",
      "\n",
      "\n",
      "\n",
      "\n",
      "\n",
      "\n",
      "ITERATION ### 3\n",
      "{0: 578, 1: 193, 2: 326, 3: 488, 4: 415}\n",
      "OPTIMIZATION for Cluster # 0 DONE!!!\n",
      "OPTIMIZATION for Cluster # 1 DONE!!!\n",
      "OPTIMIZATION for Cluster # 2 DONE!!!\n",
      "OPTIMIZATION for Cluster # 3 DONE!!!\n",
      "OPTIMIZATION for Cluster # 4 DONE!!!\n",
      "length of the cluster  0 ------> 578\n",
      "length of the cluster  1 ------> 193\n",
      "length of the cluster  2 ------> 326\n",
      "length of the cluster  3 ------> 488\n",
      "length of the cluster  4 ------> 415\n",
      "UPDATED THE OLD COVARIANCE\n",
      "beginning the smoothening ALGORITHM\n",
      "length of cluster # 0 --------> 578\n",
      "length of cluster # 1 --------> 194\n",
      "length of cluster # 2 --------> 326\n",
      "length of cluster # 3 --------> 487\n",
      "length of cluster # 4 --------> 415\n",
      "Done writing the figure\n",
      "\n",
      "\n",
      "\n",
      "\n",
      "\n",
      "\n",
      "\n",
      "ITERATION ### 4\n",
      "{0: 578, 1: 194, 2: 326, 3: 487, 4: 415}\n",
      "OPTIMIZATION for Cluster # 0 DONE!!!\n",
      "OPTIMIZATION for Cluster # 1 DONE!!!\n",
      "OPTIMIZATION for Cluster # 2 DONE!!!\n",
      "OPTIMIZATION for Cluster # 3 DONE!!!\n",
      "OPTIMIZATION for Cluster # 4 DONE!!!\n",
      "length of the cluster  0 ------> 578\n",
      "length of the cluster  1 ------> 194\n",
      "length of the cluster  2 ------> 326\n",
      "length of the cluster  3 ------> 487\n",
      "length of the cluster  4 ------> 415\n",
      "UPDATED THE OLD COVARIANCE\n",
      "beginning the smoothening ALGORITHM\n",
      "length of cluster # 0 --------> 578\n",
      "length of cluster # 1 --------> 194\n",
      "length of cluster # 2 --------> 326\n",
      "length of cluster # 3 --------> 487\n",
      "length of cluster # 4 --------> 415\n",
      "Done writing the figure\n",
      "\n",
      "\n",
      "\n",
      "\n",
      "\n",
      "\n",
      "\n",
      "\n",
      "CONVERGED!!! BREAKING EARLY!!!\n",
      "\n",
      "\n",
      "\n",
      "TRAINING F1 score: -1 -1 -1\n",
      "[3.0000 3.0000 3.0000 ..., 0.0000 0.0000 0.0000]\n"
     ]
    }
   ],
   "source": [
    "(cluster_assignment, cluster_MRFs) = TICC.solve(window_size = 1,number_of_clusters = 5, lambda_parameter = 11e-2, beta = 600, maxIters = 100, threshold = 2e-5, write_out_file = False, input_file = fname, prefix_string = \"output_folder/\", num_proc=1)\n",
    "\n",
    "print cluster_assignment\n",
    "np.savetxt('Results.txt', cluster_assignment, fmt='%d', delimiter=',')\n"
   ]
  }
 ],
 "metadata": {
  "kernelspec": {
   "display_name": "Python 2",
   "language": "python",
   "name": "python2"
  },
  "language_info": {
   "codemirror_mode": {
    "name": "ipython",
    "version": 2
   },
   "file_extension": ".py",
   "mimetype": "text/x-python",
   "name": "python",
   "nbconvert_exporter": "python",
   "pygments_lexer": "ipython2",
   "version": "2.7.10"
  }
 },
 "nbformat": 4,
 "nbformat_minor": 2
}
